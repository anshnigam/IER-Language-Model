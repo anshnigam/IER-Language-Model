{
 "cells": [
  {
   "cell_type": "code",
   "execution_count": 2,
   "metadata": {},
   "outputs": [],
   "source": [
    "import math\n",
    "import re"
   ]
  },
  {
   "cell_type": "markdown",
   "metadata": {},
   "source": [
    "#### Cleaning query"
   ]
  },
  {
   "cell_type": "code",
   "execution_count": 3,
   "metadata": {},
   "outputs": [
    {
     "data": {
      "text/plain": [
       "['chandrayan', '3', 'had', 'a', 'vikram', 'lander', 'and', 'rover']"
      ]
     },
     "execution_count": 3,
     "metadata": {},
     "output_type": "execute_result"
    }
   ],
   "source": [
    "q = \"Chandrayan 3 had a Vikram lander and Rover.\"\n",
    "q = re.sub(r'[^\\w\\s]', '', q)\n",
    "q_list = q.lower().split()\n",
    "q_list"
   ]
  },
  {
   "cell_type": "markdown",
   "metadata": {},
   "source": [
    "#### Cleaning documents"
   ]
  },
  {
   "cell_type": "code",
   "execution_count": 4,
   "metadata": {},
   "outputs": [],
   "source": [
    "d1 = \"Chandrayan, series of Indian lunar space probes. Chandrayan (Chandrayan is Hindi for “moon craft”), the first lunar space probe of the Indian Space Research Organisation (ISRO), found water on the Moon. It mapped the Moon in infrared, visible, and X-ray light from lunar orbit and used reflected radiation to prospect for various elements, minerals, and ice. It operated in 2008 09. Chandrayan 2, which launched in 2019, was designed to be ISRO first lunar lander. Chandrayan 3 was ISRO first lunar lander and touched down in the Moon south polar region in 2023.\"\n",
    "d1 = re.sub(r'[^\\w\\s]', '', d1)\n",
    "d1 = d1.lower()"
   ]
  },
  {
   "cell_type": "code",
   "execution_count": 5,
   "metadata": {},
   "outputs": [],
   "source": [
    "d2 = \"A Polar Satellite Launch Vehicle launched the 590-kg (1,300-pound) Chandrayan 1 on October 22, 2008, from the Satish Dhawan Space Centre on Sriharikota Island, Andhra Pradesh state. The probe then was boosted into an elliptical polar orbit around the Moon, 504 km (312 miles) high at its closest to the lunar surface and 7,502 km (4,651 miles) at its farthest. After checkout, it descended to a 100-km (60-mile) orbit. On November 14, 2008, Chandrayan 1 launched a small craft, the Moon Impact Probe (MIP), that was designed to test systems for future landings and study the thin lunar atmosphere before crashing on the Moon surface. MIP impacted near the south pole, but, before it crashed, it discovered small amounts of water in the Moon atmosphere.\"\n",
    "d2 = re.sub(r'[^\\w\\s]', '', d2)\n",
    "d2 = d2.lower()"
   ]
  },
  {
   "cell_type": "code",
   "execution_count": 6,
   "metadata": {},
   "outputs": [],
   "source": [
    "d3 = \"The U.S. National Aeronautics and Space Administration (NASA) contributed two instruments, the Moon Mineralogy Mapper (M3) and the Miniature Synthetic Aperture Radar (Mini-SAR), which sought ice at the poles. M3 studied the lunar surface in wavelengths from the visible to the infrared in order to isolate signatures of different minerals on the surface. It found small amounts of water and hydroxyl radicals on the Moon surface. M3 also discovered in a crater near the Moon equator evidence for water coming from beneath the surface. Mini-SAR broadcast polarized radio waves at the north and south polar regions. Changes in the polarization of the echo measured the dielectric constant and porosity, which are related to the presence of water ice. The European Space Agency (ESA) had two other experiments, an infrared spectrometer and a solar wind monitor. The Bulgarian Aerospace Agency provided a radiation monitor.\"\n",
    "d3 = re.sub(r'[^\\w\\s]', '', d3)\n",
    "d3 = d3.lower()"
   ]
  },
  {
   "cell_type": "code",
   "execution_count": 7,
   "metadata": {},
   "outputs": [],
   "source": [
    "d4 = \"The principal instruments from ISRO—the Terrain Mapping Camera, the HyperSpectral Imager, and the Lunar Laser Ranging Instrument—produced images of the lunar surface with high spectral and spatial resolution, including stereo images with a 5-metre (16-foot) resolution and global topographic maps with a resolution of 10 metres (33 feet). The Chandrayan Imaging X-ray Spectrometer, developed by ISRO and ESA, was designed to detect magnesium, aluminum, silicon, calcium, titanium, and iron by the X-rays they emit when exposed to solar flares. This was done in part with the Solar X-Ray Monitor, which measured incoming solar radiation.\"\n",
    "d4 = re.sub(r'[^\\w\\s]', '', d4)\n",
    "d4 = d4.lower()"
   ]
  },
  {
   "cell_type": "code",
   "execution_count": 8,
   "metadata": {},
   "outputs": [],
   "source": [
    "d5 = \"Chandrayaan 1 operations were originally planned to last two years, but the mission ended on August 28, 2009, when radio contact was lost with the spacecraft.Chandrayaan2 launched on July 22, 2019, from Sriharikota on a Geosynchronous Satellite Launch Vehicle Mark III. The spacecraft consisted of an orbiter, a lander, and a rover. The orbiter circles the Moon in a polar orbit at a height of 100 km (62 miles) and has a planned mission lifetime of seven and a half years. The mission Vikram lander (named after ISRO founder Vikram Sarabhai) was planned to land on September 7. Vikram carried the small (27 kg) Pragyan (Sanskrit: “Wisdom”) rover. Both Vikram and Pragyan were designed to operate for 1 lunar day (14 Earth days). However, just before Vikram was to touch down on the Moon, contact was lost at an altitude of 2 km (1.2 miles).\"\n",
    "d5 = re.sub(r'[^\\w\\s]', '', d5)\n",
    "d5 = d5.lower()"
   ]
  },
  {
   "cell_type": "code",
   "execution_count": 9,
   "metadata": {},
   "outputs": [],
   "source": [
    "d6 = \"Chandrayan 3 launched from Sriharikota on July 14, 2023. The spacecraft consists of a Vikram lander and a Pragyan rover. The Vikram lander touched down on the Moon on August 23. It became the first spacecraft to land in the Moon south polar region where water ice could be found under the surface. The landing site was the farthest south that any lunar probe had touched down, and India was the fourth country to have landed a spacecraft on the Moon—after the United States, Russia, and China.\"\n",
    "d6 = re.sub(r'[^\\w\\s]', '', d6)\n",
    "d6 = d6.lower()"
   ]
  },
  {
   "cell_type": "markdown",
   "metadata": {},
   "source": [
    "#### tabulating frequency of term in documents"
   ]
  },
  {
   "cell_type": "code",
   "execution_count": 10,
   "metadata": {},
   "outputs": [],
   "source": [
    "d = dict()\n",
    "freqs = dict()"
   ]
  },
  {
   "cell_type": "code",
   "execution_count": 11,
   "metadata": {},
   "outputs": [],
   "source": [
    "d[1] = d1.split()\n",
    "for i in d[1]:\n",
    "    if i in freqs:\n",
    "        freqs[i][0] += 1\n",
    "    else:\n",
    "        freqs[i] = [0]*7\n",
    "        freqs[i][0] = 1"
   ]
  },
  {
   "cell_type": "code",
   "execution_count": 12,
   "metadata": {},
   "outputs": [],
   "source": [
    "d[2] = d2.split()\n",
    "for i in d[2]:\n",
    "    if i in freqs:\n",
    "        freqs[i][1] += 1\n",
    "    else:\n",
    "        freqs[i] = [0]*7\n",
    "        freqs[i][1] = 1"
   ]
  },
  {
   "cell_type": "code",
   "execution_count": 13,
   "metadata": {},
   "outputs": [],
   "source": [
    "d[3] = d3.split()\n",
    "for i in d[3]:\n",
    "    if i in freqs:\n",
    "        freqs[i][2] += 1\n",
    "    else:\n",
    "        freqs[i] = [0]*7\n",
    "        freqs[i][2] = 1"
   ]
  },
  {
   "cell_type": "code",
   "execution_count": 14,
   "metadata": {},
   "outputs": [],
   "source": [
    "d[4] = d4.split()\n",
    "for i in d[4]:\n",
    "    if i in freqs:\n",
    "        freqs[i][3] += 1\n",
    "    else:\n",
    "        freqs[i] = [0]*7\n",
    "        freqs[i][3] = 1"
   ]
  },
  {
   "cell_type": "code",
   "execution_count": 15,
   "metadata": {},
   "outputs": [],
   "source": [
    "d[5] = d5.split()\n",
    "for i in d[5]:\n",
    "    if i in freqs:\n",
    "        freqs[i][4] += 1\n",
    "    else:\n",
    "        freqs[i] = [0]*7\n",
    "        freqs[i][4] = 1"
   ]
  },
  {
   "cell_type": "code",
   "execution_count": 16,
   "metadata": {},
   "outputs": [],
   "source": [
    "d[6] = d6.split()\n",
    "for i in d[6]:\n",
    "    if i in freqs:\n",
    "        freqs[i][5] += 1\n",
    "    else:\n",
    "        freqs[i] = [0]*7\n",
    "        freqs[i][5] = 1"
   ]
  },
  {
   "cell_type": "markdown",
   "metadata": {},
   "source": [
    "#### Calculating Fi, Σfij and ΣFi"
   ]
  },
  {
   "cell_type": "code",
   "execution_count": 17,
   "metadata": {},
   "outputs": [],
   "source": [
    "for i in freqs:\n",
    "    sum=0\n",
    "    for j in range(6):\n",
    "        sum += freqs[i][j]\n",
    "    freqs[i][6] = sum"
   ]
  },
  {
   "cell_type": "code",
   "execution_count": 18,
   "metadata": {},
   "outputs": [
    {
     "data": {
      "text/plain": [
       "[93, 125, 143, 94, 145, 87, 687]"
      ]
     },
     "execution_count": 18,
     "metadata": {},
     "output_type": "execute_result"
    }
   ],
   "source": [
    "fj = [0]*7\n",
    "for i in freqs:\n",
    "    for j in range(7):\n",
    "        fj[j] += freqs[i][j]\n",
    "fj"
   ]
  },
  {
   "cell_type": "markdown",
   "metadata": {},
   "source": [
    "#### Calculating smoothened probability for all query terms"
   ]
  },
  {
   "cell_type": "code",
   "execution_count": 19,
   "metadata": {},
   "outputs": [],
   "source": [
    "smop = dict()\n",
    "for i in q_list:\n",
    "    smop[i] = [0]*6\n",
    "    for j in range(6):\n",
    "        if i in d[j+1]:\n",
    "            smop[i][j] = 0.4*(freqs[i][j]/fj[j]) + 0.6*(freqs[i][6]/fj[6])"
   ]
  },
  {
   "cell_type": "markdown",
   "metadata": {},
   "source": [
    "#### Calculating P(ki|C) for all query terms"
   ]
  },
  {
   "cell_type": "code",
   "execution_count": 20,
   "metadata": {},
   "outputs": [],
   "source": [
    "pkc = dict()\n",
    "for i in q_list:\n",
    "        pkc[i] = freqs[i][6]/fj[6]"
   ]
  },
  {
   "cell_type": "markdown",
   "metadata": {},
   "source": [
    "#### Calculating alpha for each document"
   ]
  },
  {
   "cell_type": "code",
   "execution_count": 21,
   "metadata": {},
   "outputs": [],
   "source": [
    "alpha = [0]*6"
   ]
  },
  {
   "cell_type": "code",
   "execution_count": 22,
   "metadata": {},
   "outputs": [],
   "source": [
    "for j in range(6):\n",
    "    sum_num = 0\n",
    "    sum_den = 0\n",
    "    for i in q_list:\n",
    "        sum_num += smop[i][j]\n",
    "        sum_den += pkc[i]\n",
    "    alpha[j] = (1-sum_num)/(1-sum_den)"
   ]
  },
  {
   "cell_type": "markdown",
   "metadata": {},
   "source": [
    "#### Calculating P(Ki|Mj) using smoothened probability, alpha and P(ki|C)"
   ]
  },
  {
   "cell_type": "code",
   "execution_count": 23,
   "metadata": {},
   "outputs": [
    {
     "data": {
      "text/plain": [
       "{'chandrayan': [0.029365638352819648,\n",
       "  0.014260262008733624,\n",
       "  0.01364026009718745,\n",
       "  0.012115581157669794,\n",
       "  0.013064209544408309,\n",
       "  0.01245796315815891],\n",
       " '3': [0.0060478001596469,\n",
       "  0.0030294107639085807,\n",
       "  0.0030311689104861005,\n",
       "  0.002991610266533615,\n",
       "  0.0029031576765351803,\n",
       "  0.006344426040254982],\n",
       " 'had': [0.002962919599065535,\n",
       "  0.0030294107639085807,\n",
       "  0.004543927688032492,\n",
       "  0.002991610266533615,\n",
       "  0.0029031576765351803,\n",
       "  0.006344426040254982],\n",
       " 'a': [0.026666276391589812,\n",
       "  0.025320524017467247,\n",
       "  0.024112132409075636,\n",
       "  0.02423116231533959,\n",
       "  0.03503086884505345,\n",
       "  0.029513627465743108],\n",
       " 'vikram': [0.010370218596729373,\n",
       "  0.010602937673680032,\n",
       "  0.01060909118670135,\n",
       "  0.010470635932867652,\n",
       "  0.019906640566179794,\n",
       "  0.015308939416754505],\n",
       " 'lander': [0.013842325210123494,\n",
       "  0.00908823229172574,\n",
       "  0.0090935067314583,\n",
       "  0.008974830799600845,\n",
       "  0.010757416051799428,\n",
       "  0.014435576971339657],\n",
       " 'and': [0.03816499976522515,\n",
       "  0.02736069868995633,\n",
       "  0.037743915473173115,\n",
       "  0.04223729443463718,\n",
       "  0.03199518144857702,\n",
       "  0.03475380213823219],\n",
       " 'rover': [0.004444379398598302,\n",
       "  0.00454411614586287,\n",
       "  0.00454675336572915,\n",
       "  0.004487415399800423,\n",
       "  0.008137328715554887,\n",
       "  0.007217788485669828]}"
      ]
     },
     "execution_count": 23,
     "metadata": {},
     "output_type": "execute_result"
    }
   ],
   "source": [
    "pki = dict()\n",
    "for i in q_list:\n",
    "    pki[i] = [0]*6\n",
    "    for j in range(6):\n",
    "        if i in d[j+1]:\n",
    "            pki[i][j] = smop[i][j]\n",
    "        else:\n",
    "            pki[i][j] = alpha[j]*pkc[i]\n",
    "pki"
   ]
  },
  {
   "cell_type": "code",
   "execution_count": 24,
   "metadata": {},
   "outputs": [
    {
     "data": {
      "text/plain": [
       "[3.416586891818385e-16,\n",
       " 3.9700754171292186e-17,\n",
       " 7.499939215875092e-17,\n",
       " 4.6797238042968285e-17,\n",
       " 2.1505407314924324e-16,\n",
       " 8.204271763329805e-16]"
      ]
     },
     "execution_count": 24,
     "metadata": {},
     "output_type": "execute_result"
    }
   ],
   "source": [
    "pro = [0]*6\n",
    "for j in range(6):\n",
    "    score = 1.0\n",
    "    for i in q_list:\n",
    "        score *= pki[i][j]\n",
    "    pro[j] = score"
   ]
  },
  {
   "cell_type": "markdown",
   "metadata": {},
   "source": [
    "#### Ranking the given docx"
   ]
  },
  {
   "cell_type": "code",
   "execution_count": 25,
   "metadata": {},
   "outputs": [
    {
     "name": "stdout",
     "output_type": "stream",
     "text": [
      "Rank 1: Document 6\n",
      "Rank 2: Document 1\n",
      "Rank 3: Document 5\n",
      "Rank 4: Document 3\n",
      "Rank 5: Document 4\n",
      "Rank 6: Document 2\n"
     ]
    }
   ],
   "source": [
    "rank= []\n",
    "for j in range(1,7):\n",
    "    rank.append([\"Document \"+str(j),pro[j-1]])\n",
    "rank.sort(key=lambda x:x[1],reverse=True)\n",
    "\n",
    "for j in range(6):\n",
    "    print(f\"Rank {j+1}: {rank[j][0]}\")"
   ]
  }
 ],
 "metadata": {
  "kernelspec": {
   "display_name": "Python 3",
   "language": "python",
   "name": "python3"
  },
  "language_info": {
   "codemirror_mode": {
    "name": "ipython",
    "version": 3
   },
   "file_extension": ".py",
   "mimetype": "text/x-python",
   "name": "python",
   "nbconvert_exporter": "python",
   "pygments_lexer": "ipython3",
   "version": "3.11.1"
  }
 },
 "nbformat": 4,
 "nbformat_minor": 2
}
